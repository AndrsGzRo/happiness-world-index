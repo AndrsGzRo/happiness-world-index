{
 "cells": [
  {
   "cell_type": "markdown",
   "metadata": {
    "id": "_A6Di7RMqPMq"
   },
   "source": [
    "**Plataformas de visualización - DS_C3_SC2_T2**\n",
    "\n",
    "---\n"
   ]
  },
  {
   "cell_type": "code",
   "execution_count": 9,
   "metadata": {
    "executionInfo": {
     "elapsed": 298,
     "status": "ok",
     "timestamp": 1622168036561,
     "user": {
      "displayName": "Grettel Barceló Alonso",
      "photoUrl": "",
      "userId": "01577411478517144249"
     },
     "user_tz": 300
    },
    "id": "m0kt9tIIqOa2"
   },
   "outputs": [],
   "source": [
    "import pandas as pd\n",
    "import seaborn as sns\n",
    "import matplotlib.pyplot as plt\n",
    "import numpy as np"
   ]
  },
  {
   "cell_type": "code",
   "execution_count": 10,
   "metadata": {
    "executionInfo": {
     "elapsed": 244,
     "status": "ok",
     "timestamp": 1622167415401,
     "user": {
      "displayName": "Grettel Barceló Alonso",
      "photoUrl": "",
      "userId": "01577411478517144249"
     },
     "user_tz": 300
    },
    "id": "AAL8uV_Qtke4"
   },
   "outputs": [],
   "source": [
    "pd.options.display.max_rows = 10"
   ]
  },
  {
   "cell_type": "markdown",
   "metadata": {
    "id": "j0duxompyOYS"
   },
   "source": [
    "1.\tLeer en dos dataframes `birth` y `death`, el contenido de los archivos Birth.csv y Death.csv respectivamente, que almacenan, por país, las tasas brutas de natalidad y mortalidad desde 1960. "
   ]
  },
  {
   "cell_type": "code",
   "execution_count": 11,
   "metadata": {
    "colab": {
     "base_uri": "https://localhost:8080/",
     "height": 496
    },
    "executionInfo": {
     "elapsed": 308,
     "status": "ok",
     "timestamp": 1622167417257,
     "user": {
      "displayName": "Grettel Barceló Alonso",
      "photoUrl": "",
      "userId": "01577411478517144249"
     },
     "user_tz": 300
    },
    "id": "ETuRaA3Xr_V1",
    "outputId": "a4728c30-e0ea-4621-aa0a-8481887e7e8a"
   },
   "outputs": [
    {
     "data": {
      "text/html": [
       "<div>\n",
       "<style scoped>\n",
       "    .dataframe tbody tr th:only-of-type {\n",
       "        vertical-align: middle;\n",
       "    }\n",
       "\n",
       "    .dataframe tbody tr th {\n",
       "        vertical-align: top;\n",
       "    }\n",
       "\n",
       "    .dataframe thead th {\n",
       "        text-align: right;\n",
       "    }\n",
       "</style>\n",
       "<table border=\"1\" class=\"dataframe\">\n",
       "  <thead>\n",
       "    <tr style=\"text-align: right;\">\n",
       "      <th></th>\n",
       "      <th>Country Name</th>\n",
       "      <th>Country Code</th>\n",
       "      <th>1960</th>\n",
       "      <th>1961</th>\n",
       "      <th>1962</th>\n",
       "      <th>1963</th>\n",
       "      <th>1964</th>\n",
       "      <th>1965</th>\n",
       "      <th>1966</th>\n",
       "      <th>1967</th>\n",
       "      <th>...</th>\n",
       "      <th>2009</th>\n",
       "      <th>2010</th>\n",
       "      <th>2011</th>\n",
       "      <th>2012</th>\n",
       "      <th>2013</th>\n",
       "      <th>2014</th>\n",
       "      <th>2015</th>\n",
       "      <th>2016</th>\n",
       "      <th>2017</th>\n",
       "      <th>2018</th>\n",
       "    </tr>\n",
       "  </thead>\n",
       "  <tbody>\n",
       "    <tr>\n",
       "      <th>0</th>\n",
       "      <td>Aruba</td>\n",
       "      <td>ABW</td>\n",
       "      <td>35.679</td>\n",
       "      <td>34.529</td>\n",
       "      <td>33.320</td>\n",
       "      <td>32.050</td>\n",
       "      <td>30.737</td>\n",
       "      <td>29.413</td>\n",
       "      <td>28.121</td>\n",
       "      <td>26.908</td>\n",
       "      <td>...</td>\n",
       "      <td>11.361</td>\n",
       "      <td>11.214</td>\n",
       "      <td>11.123</td>\n",
       "      <td>11.090</td>\n",
       "      <td>11.111</td>\n",
       "      <td>11.179</td>\n",
       "      <td>11.281</td>\n",
       "      <td>11.404</td>\n",
       "      <td>11.532</td>\n",
       "      <td>11.652</td>\n",
       "    </tr>\n",
       "    <tr>\n",
       "      <th>1</th>\n",
       "      <td>Afghanistan</td>\n",
       "      <td>AFG</td>\n",
       "      <td>51.279</td>\n",
       "      <td>51.373</td>\n",
       "      <td>51.457</td>\n",
       "      <td>51.530</td>\n",
       "      <td>51.589</td>\n",
       "      <td>51.631</td>\n",
       "      <td>51.652</td>\n",
       "      <td>51.650</td>\n",
       "      <td>...</td>\n",
       "      <td>40.903</td>\n",
       "      <td>39.829</td>\n",
       "      <td>38.750</td>\n",
       "      <td>37.690</td>\n",
       "      <td>36.670</td>\n",
       "      <td>35.706</td>\n",
       "      <td>34.809</td>\n",
       "      <td>33.981</td>\n",
       "      <td>33.211</td>\n",
       "      <td>32.487</td>\n",
       "    </tr>\n",
       "    <tr>\n",
       "      <th>2</th>\n",
       "      <td>Angola</td>\n",
       "      <td>AGO</td>\n",
       "      <td>49.080</td>\n",
       "      <td>48.779</td>\n",
       "      <td>48.547</td>\n",
       "      <td>48.430</td>\n",
       "      <td>48.450</td>\n",
       "      <td>48.622</td>\n",
       "      <td>48.936</td>\n",
       "      <td>49.343</td>\n",
       "      <td>...</td>\n",
       "      <td>46.143</td>\n",
       "      <td>45.656</td>\n",
       "      <td>45.102</td>\n",
       "      <td>44.493</td>\n",
       "      <td>43.847</td>\n",
       "      <td>43.182</td>\n",
       "      <td>42.520</td>\n",
       "      <td>41.882</td>\n",
       "      <td>41.281</td>\n",
       "      <td>40.729</td>\n",
       "    </tr>\n",
       "    <tr>\n",
       "      <th>3</th>\n",
       "      <td>Albania</td>\n",
       "      <td>ALB</td>\n",
       "      <td>40.924</td>\n",
       "      <td>40.368</td>\n",
       "      <td>39.627</td>\n",
       "      <td>38.723</td>\n",
       "      <td>37.695</td>\n",
       "      <td>36.599</td>\n",
       "      <td>35.496</td>\n",
       "      <td>34.435</td>\n",
       "      <td>...</td>\n",
       "      <td>11.945</td>\n",
       "      <td>12.001</td>\n",
       "      <td>12.100</td>\n",
       "      <td>12.197</td>\n",
       "      <td>12.257</td>\n",
       "      <td>12.259</td>\n",
       "      <td>12.197</td>\n",
       "      <td>12.080</td>\n",
       "      <td>11.934</td>\n",
       "      <td>11.780</td>\n",
       "    </tr>\n",
       "    <tr>\n",
       "      <th>4</th>\n",
       "      <td>Andorra</td>\n",
       "      <td>AND</td>\n",
       "      <td>NaN</td>\n",
       "      <td>NaN</td>\n",
       "      <td>NaN</td>\n",
       "      <td>NaN</td>\n",
       "      <td>NaN</td>\n",
       "      <td>NaN</td>\n",
       "      <td>NaN</td>\n",
       "      <td>NaN</td>\n",
       "      <td>...</td>\n",
       "      <td>9.900</td>\n",
       "      <td>9.800</td>\n",
       "      <td>NaN</td>\n",
       "      <td>9.500</td>\n",
       "      <td>NaN</td>\n",
       "      <td>NaN</td>\n",
       "      <td>NaN</td>\n",
       "      <td>8.800</td>\n",
       "      <td>NaN</td>\n",
       "      <td>7.200</td>\n",
       "    </tr>\n",
       "    <tr>\n",
       "      <th>...</th>\n",
       "      <td>...</td>\n",
       "      <td>...</td>\n",
       "      <td>...</td>\n",
       "      <td>...</td>\n",
       "      <td>...</td>\n",
       "      <td>...</td>\n",
       "      <td>...</td>\n",
       "      <td>...</td>\n",
       "      <td>...</td>\n",
       "      <td>...</td>\n",
       "      <td>...</td>\n",
       "      <td>...</td>\n",
       "      <td>...</td>\n",
       "      <td>...</td>\n",
       "      <td>...</td>\n",
       "      <td>...</td>\n",
       "      <td>...</td>\n",
       "      <td>...</td>\n",
       "      <td>...</td>\n",
       "      <td>...</td>\n",
       "      <td>...</td>\n",
       "    </tr>\n",
       "    <tr>\n",
       "      <th>259</th>\n",
       "      <td>Kosovo</td>\n",
       "      <td>XKX</td>\n",
       "      <td>NaN</td>\n",
       "      <td>NaN</td>\n",
       "      <td>NaN</td>\n",
       "      <td>NaN</td>\n",
       "      <td>NaN</td>\n",
       "      <td>NaN</td>\n",
       "      <td>NaN</td>\n",
       "      <td>NaN</td>\n",
       "      <td>...</td>\n",
       "      <td>18.800</td>\n",
       "      <td>18.500</td>\n",
       "      <td>18.300</td>\n",
       "      <td>18.000</td>\n",
       "      <td>17.700</td>\n",
       "      <td>17.400</td>\n",
       "      <td>17.100</td>\n",
       "      <td>16.800</td>\n",
       "      <td>16.400</td>\n",
       "      <td>16.000</td>\n",
       "    </tr>\n",
       "    <tr>\n",
       "      <th>260</th>\n",
       "      <td>Yemen, Rep.</td>\n",
       "      <td>YEM</td>\n",
       "      <td>53.504</td>\n",
       "      <td>53.786</td>\n",
       "      <td>54.089</td>\n",
       "      <td>54.413</td>\n",
       "      <td>54.750</td>\n",
       "      <td>55.089</td>\n",
       "      <td>55.413</td>\n",
       "      <td>55.705</td>\n",
       "      <td>...</td>\n",
       "      <td>34.834</td>\n",
       "      <td>34.472</td>\n",
       "      <td>34.091</td>\n",
       "      <td>33.680</td>\n",
       "      <td>33.229</td>\n",
       "      <td>32.735</td>\n",
       "      <td>32.197</td>\n",
       "      <td>31.627</td>\n",
       "      <td>31.040</td>\n",
       "      <td>30.453</td>\n",
       "    </tr>\n",
       "    <tr>\n",
       "      <th>261</th>\n",
       "      <td>South Africa</td>\n",
       "      <td>ZAF</td>\n",
       "      <td>41.075</td>\n",
       "      <td>40.882</td>\n",
       "      <td>40.663</td>\n",
       "      <td>40.419</td>\n",
       "      <td>40.152</td>\n",
       "      <td>39.871</td>\n",
       "      <td>39.588</td>\n",
       "      <td>39.313</td>\n",
       "      <td>...</td>\n",
       "      <td>23.417</td>\n",
       "      <td>23.305</td>\n",
       "      <td>23.097</td>\n",
       "      <td>22.815</td>\n",
       "      <td>22.483</td>\n",
       "      <td>22.113</td>\n",
       "      <td>21.719</td>\n",
       "      <td>21.314</td>\n",
       "      <td>20.908</td>\n",
       "      <td>20.510</td>\n",
       "    </tr>\n",
       "    <tr>\n",
       "      <th>262</th>\n",
       "      <td>Zambia</td>\n",
       "      <td>ZMB</td>\n",
       "      <td>49.672</td>\n",
       "      <td>49.806</td>\n",
       "      <td>49.872</td>\n",
       "      <td>49.865</td>\n",
       "      <td>49.793</td>\n",
       "      <td>49.680</td>\n",
       "      <td>49.559</td>\n",
       "      <td>49.459</td>\n",
       "      <td>...</td>\n",
       "      <td>41.738</td>\n",
       "      <td>41.194</td>\n",
       "      <td>40.620</td>\n",
       "      <td>40.002</td>\n",
       "      <td>39.339</td>\n",
       "      <td>38.645</td>\n",
       "      <td>37.950</td>\n",
       "      <td>37.292</td>\n",
       "      <td>36.699</td>\n",
       "      <td>36.192</td>\n",
       "    </tr>\n",
       "    <tr>\n",
       "      <th>263</th>\n",
       "      <td>Zimbabwe</td>\n",
       "      <td>ZWE</td>\n",
       "      <td>47.996</td>\n",
       "      <td>47.988</td>\n",
       "      <td>47.950</td>\n",
       "      <td>47.876</td>\n",
       "      <td>47.770</td>\n",
       "      <td>47.643</td>\n",
       "      <td>47.515</td>\n",
       "      <td>47.407</td>\n",
       "      <td>...</td>\n",
       "      <td>36.134</td>\n",
       "      <td>36.464</td>\n",
       "      <td>36.526</td>\n",
       "      <td>36.292</td>\n",
       "      <td>35.768</td>\n",
       "      <td>34.978</td>\n",
       "      <td>33.981</td>\n",
       "      <td>32.864</td>\n",
       "      <td>31.732</td>\n",
       "      <td>30.676</td>\n",
       "    </tr>\n",
       "  </tbody>\n",
       "</table>\n",
       "<p>264 rows × 61 columns</p>\n",
       "</div>"
      ],
      "text/plain": [
       "     Country Name Country Code    1960    1961    1962    1963    1964  \\\n",
       "0           Aruba          ABW  35.679  34.529  33.320  32.050  30.737   \n",
       "1     Afghanistan          AFG  51.279  51.373  51.457  51.530  51.589   \n",
       "2          Angola          AGO  49.080  48.779  48.547  48.430  48.450   \n",
       "3         Albania          ALB  40.924  40.368  39.627  38.723  37.695   \n",
       "4         Andorra          AND     NaN     NaN     NaN     NaN     NaN   \n",
       "..            ...          ...     ...     ...     ...     ...     ...   \n",
       "259        Kosovo          XKX     NaN     NaN     NaN     NaN     NaN   \n",
       "260   Yemen, Rep.          YEM  53.504  53.786  54.089  54.413  54.750   \n",
       "261  South Africa          ZAF  41.075  40.882  40.663  40.419  40.152   \n",
       "262        Zambia          ZMB  49.672  49.806  49.872  49.865  49.793   \n",
       "263      Zimbabwe          ZWE  47.996  47.988  47.950  47.876  47.770   \n",
       "\n",
       "       1965    1966    1967  ...    2009    2010    2011    2012    2013  \\\n",
       "0    29.413  28.121  26.908  ...  11.361  11.214  11.123  11.090  11.111   \n",
       "1    51.631  51.652  51.650  ...  40.903  39.829  38.750  37.690  36.670   \n",
       "2    48.622  48.936  49.343  ...  46.143  45.656  45.102  44.493  43.847   \n",
       "3    36.599  35.496  34.435  ...  11.945  12.001  12.100  12.197  12.257   \n",
       "4       NaN     NaN     NaN  ...   9.900   9.800     NaN   9.500     NaN   \n",
       "..      ...     ...     ...  ...     ...     ...     ...     ...     ...   \n",
       "259     NaN     NaN     NaN  ...  18.800  18.500  18.300  18.000  17.700   \n",
       "260  55.089  55.413  55.705  ...  34.834  34.472  34.091  33.680  33.229   \n",
       "261  39.871  39.588  39.313  ...  23.417  23.305  23.097  22.815  22.483   \n",
       "262  49.680  49.559  49.459  ...  41.738  41.194  40.620  40.002  39.339   \n",
       "263  47.643  47.515  47.407  ...  36.134  36.464  36.526  36.292  35.768   \n",
       "\n",
       "       2014    2015    2016    2017    2018  \n",
       "0    11.179  11.281  11.404  11.532  11.652  \n",
       "1    35.706  34.809  33.981  33.211  32.487  \n",
       "2    43.182  42.520  41.882  41.281  40.729  \n",
       "3    12.259  12.197  12.080  11.934  11.780  \n",
       "4       NaN     NaN   8.800     NaN   7.200  \n",
       "..      ...     ...     ...     ...     ...  \n",
       "259  17.400  17.100  16.800  16.400  16.000  \n",
       "260  32.735  32.197  31.627  31.040  30.453  \n",
       "261  22.113  21.719  21.314  20.908  20.510  \n",
       "262  38.645  37.950  37.292  36.699  36.192  \n",
       "263  34.978  33.981  32.864  31.732  30.676  \n",
       "\n",
       "[264 rows x 61 columns]"
      ]
     },
     "execution_count": 11,
     "metadata": {},
     "output_type": "execute_result"
    }
   ],
   "source": [
    "birth = pd.read_csv('Birth.csv')\n",
    "birth"
   ]
  },
  {
   "cell_type": "code",
   "execution_count": 12,
   "metadata": {
    "colab": {
     "base_uri": "https://localhost:8080/",
     "height": 496
    },
    "executionInfo": {
     "elapsed": 232,
     "status": "ok",
     "timestamp": 1622166716543,
     "user": {
      "displayName": "Grettel Barceló Alonso",
      "photoUrl": "",
      "userId": "01577411478517144249"
     },
     "user_tz": 300
    },
    "id": "Lsx2_THsluP2",
    "outputId": "dcb0dafd-2176-49eb-f007-f5125987831f"
   },
   "outputs": [],
   "source": [
    "death = pd.read_csv('Death.csv')"
   ]
  },
  {
   "cell_type": "markdown",
   "metadata": {
    "id": "Mfz2_boAWykf"
   },
   "source": [
    "2.\tA partir de los dataframes anteriores obtén otros dos (`mexico_births`, `mexico_deaths`) donde sólo almacenes la información de México. Haz los cambios necesarios para que queden con la siguiente estructura."
   ]
  },
  {
   "cell_type": "code",
   "execution_count": 13,
   "metadata": {
    "executionInfo": {
     "elapsed": 27,
     "status": "ok",
     "timestamp": 1622166716544,
     "user": {
      "displayName": "Grettel Barceló Alonso",
      "photoUrl": "",
      "userId": "01577411478517144249"
     },
     "user_tz": 300
    },
    "id": "TB5VFS2zmQAT"
   },
   "outputs": [],
   "source": [
    "mexico_births = birth[birth['Country Name']=='Mexico']\n",
    "mexico_births = mexico_births.drop('Country Code',axis=1)\n",
    "mexico_births.set_index('Country Name',inplace=True)\n",
    "mexico_births = mexico_births.T\n",
    "mexico_births.index.name = 'Year'\n",
    "mexico_births.columns.name = ''\n",
    "mexico_births.columns = ['Births']"
   ]
  },
  {
   "cell_type": "code",
   "execution_count": 14,
   "metadata": {
    "colab": {
     "base_uri": "https://localhost:8080/",
     "height": 454
    },
    "executionInfo": {
     "elapsed": 189,
     "status": "ok",
     "timestamp": 1622167421053,
     "user": {
      "displayName": "Grettel Barceló Alonso",
      "photoUrl": "",
      "userId": "01577411478517144249"
     },
     "user_tz": 300
    },
    "id": "JCvKWWaHoeCS",
    "outputId": "76705c71-1ce7-4961-d15f-0d22fa394c36"
   },
   "outputs": [
    {
     "data": {
      "text/html": [
       "<div>\n",
       "<style scoped>\n",
       "    .dataframe tbody tr th:only-of-type {\n",
       "        vertical-align: middle;\n",
       "    }\n",
       "\n",
       "    .dataframe tbody tr th {\n",
       "        vertical-align: top;\n",
       "    }\n",
       "\n",
       "    .dataframe thead th {\n",
       "        text-align: right;\n",
       "    }\n",
       "</style>\n",
       "<table border=\"1\" class=\"dataframe\">\n",
       "  <thead>\n",
       "    <tr style=\"text-align: right;\">\n",
       "      <th></th>\n",
       "      <th>Births</th>\n",
       "    </tr>\n",
       "    <tr>\n",
       "      <th>Year</th>\n",
       "      <th></th>\n",
       "    </tr>\n",
       "  </thead>\n",
       "  <tbody>\n",
       "    <tr>\n",
       "      <th>1960</th>\n",
       "      <td>45.179</td>\n",
       "    </tr>\n",
       "    <tr>\n",
       "      <th>1961</th>\n",
       "      <td>44.919</td>\n",
       "    </tr>\n",
       "    <tr>\n",
       "      <th>1962</th>\n",
       "      <td>44.698</td>\n",
       "    </tr>\n",
       "    <tr>\n",
       "      <th>1963</th>\n",
       "      <td>44.517</td>\n",
       "    </tr>\n",
       "    <tr>\n",
       "      <th>1964</th>\n",
       "      <td>44.366</td>\n",
       "    </tr>\n",
       "    <tr>\n",
       "      <th>...</th>\n",
       "      <td>...</td>\n",
       "    </tr>\n",
       "    <tr>\n",
       "      <th>2014</th>\n",
       "      <td>18.892</td>\n",
       "    </tr>\n",
       "    <tr>\n",
       "      <th>2015</th>\n",
       "      <td>18.573</td>\n",
       "    </tr>\n",
       "    <tr>\n",
       "      <th>2016</th>\n",
       "      <td>18.245</td>\n",
       "    </tr>\n",
       "    <tr>\n",
       "      <th>2017</th>\n",
       "      <td>17.918</td>\n",
       "    </tr>\n",
       "    <tr>\n",
       "      <th>2018</th>\n",
       "      <td>17.602</td>\n",
       "    </tr>\n",
       "  </tbody>\n",
       "</table>\n",
       "<p>59 rows × 1 columns</p>\n",
       "</div>"
      ],
      "text/plain": [
       "      Births\n",
       "Year        \n",
       "1960  45.179\n",
       "1961  44.919\n",
       "1962  44.698\n",
       "1963  44.517\n",
       "1964  44.366\n",
       "...      ...\n",
       "2014  18.892\n",
       "2015  18.573\n",
       "2016  18.245\n",
       "2017  17.918\n",
       "2018  17.602\n",
       "\n",
       "[59 rows x 1 columns]"
      ]
     },
     "execution_count": 14,
     "metadata": {},
     "output_type": "execute_result"
    }
   ],
   "source": [
    "mexico_births"
   ]
  },
  {
   "cell_type": "code",
   "execution_count": 15,
   "metadata": {
    "executionInfo": {
     "elapsed": 230,
     "status": "ok",
     "timestamp": 1622167425429,
     "user": {
      "displayName": "Grettel Barceló Alonso",
      "photoUrl": "",
      "userId": "01577411478517144249"
     },
     "user_tz": 300
    },
    "id": "zXEzLoNrpmt_"
   },
   "outputs": [],
   "source": [
    "mexico_deaths = death[death['Country Name']=='Mexico']\n",
    "mexico_deaths = mexico_deaths.drop('Country Code',axis=1)\n",
    "mexico_deaths.set_index('Country Name',inplace=True)\n",
    "mexico_deaths = mexico_deaths.T\n",
    "mexico_deaths.index.name = 'Year'\n",
    "mexico_deaths.columns.name = ''\n",
    "mexico_deaths.columns = ['Deaths']"
   ]
  },
  {
   "cell_type": "code",
   "execution_count": 16,
   "metadata": {
    "colab": {
     "base_uri": "https://localhost:8080/",
     "height": 454
    },
    "executionInfo": {
     "elapsed": 189,
     "status": "ok",
     "timestamp": 1622167428821,
     "user": {
      "displayName": "Grettel Barceló Alonso",
      "photoUrl": "",
      "userId": "01577411478517144249"
     },
     "user_tz": 300
    },
    "id": "imkivWK8mbJB",
    "outputId": "1cf224e8-7772-43ba-cd8a-d5855090dcee"
   },
   "outputs": [
    {
     "data": {
      "text/html": [
       "<div>\n",
       "<style scoped>\n",
       "    .dataframe tbody tr th:only-of-type {\n",
       "        vertical-align: middle;\n",
       "    }\n",
       "\n",
       "    .dataframe tbody tr th {\n",
       "        vertical-align: top;\n",
       "    }\n",
       "\n",
       "    .dataframe thead th {\n",
       "        text-align: right;\n",
       "    }\n",
       "</style>\n",
       "<table border=\"1\" class=\"dataframe\">\n",
       "  <thead>\n",
       "    <tr style=\"text-align: right;\">\n",
       "      <th></th>\n",
       "      <th>Deaths</th>\n",
       "    </tr>\n",
       "    <tr>\n",
       "      <th>Year</th>\n",
       "      <th></th>\n",
       "    </tr>\n",
       "  </thead>\n",
       "  <tbody>\n",
       "    <tr>\n",
       "      <th>1960</th>\n",
       "      <td>12.270</td>\n",
       "    </tr>\n",
       "    <tr>\n",
       "      <th>1961</th>\n",
       "      <td>11.915</td>\n",
       "    </tr>\n",
       "    <tr>\n",
       "      <th>1962</th>\n",
       "      <td>11.610</td>\n",
       "    </tr>\n",
       "    <tr>\n",
       "      <th>1963</th>\n",
       "      <td>11.346</td>\n",
       "    </tr>\n",
       "    <tr>\n",
       "      <th>1964</th>\n",
       "      <td>11.114</td>\n",
       "    </tr>\n",
       "    <tr>\n",
       "      <th>...</th>\n",
       "      <td>...</td>\n",
       "    </tr>\n",
       "    <tr>\n",
       "      <th>2014</th>\n",
       "      <td>5.670</td>\n",
       "    </tr>\n",
       "    <tr>\n",
       "      <th>2015</th>\n",
       "      <td>5.763</td>\n",
       "    </tr>\n",
       "    <tr>\n",
       "      <th>2016</th>\n",
       "      <td>5.851</td>\n",
       "    </tr>\n",
       "    <tr>\n",
       "      <th>2017</th>\n",
       "      <td>5.933</td>\n",
       "    </tr>\n",
       "    <tr>\n",
       "      <th>2018</th>\n",
       "      <td>6.010</td>\n",
       "    </tr>\n",
       "  </tbody>\n",
       "</table>\n",
       "<p>59 rows × 1 columns</p>\n",
       "</div>"
      ],
      "text/plain": [
       "      Deaths\n",
       "Year        \n",
       "1960  12.270\n",
       "1961  11.915\n",
       "1962  11.610\n",
       "1963  11.346\n",
       "1964  11.114\n",
       "...      ...\n",
       "2014   5.670\n",
       "2015   5.763\n",
       "2016   5.851\n",
       "2017   5.933\n",
       "2018   6.010\n",
       "\n",
       "[59 rows x 1 columns]"
      ]
     },
     "execution_count": 16,
     "metadata": {},
     "output_type": "execute_result"
    }
   ],
   "source": [
    "mexico_deaths\n"
   ]
  },
  {
   "cell_type": "markdown",
   "metadata": {
    "id": "b920F7KQW7Gu"
   },
   "source": [
    "3.\tJunta los dataframes para que quede toda la información sólo en uno (`mexico`)"
   ]
  },
  {
   "cell_type": "code",
   "execution_count": 17,
   "metadata": {
    "colab": {
     "base_uri": "https://localhost:8080/",
     "height": 454
    },
    "executionInfo": {
     "elapsed": 157,
     "status": "ok",
     "timestamp": 1622167617565,
     "user": {
      "displayName": "Grettel Barceló Alonso",
      "photoUrl": "",
      "userId": "01577411478517144249"
     },
     "user_tz": 300
    },
    "id": "8XKshkR8m5yt",
    "outputId": "578835f4-692e-42ca-81dd-9f0b3312a563"
   },
   "outputs": [
    {
     "data": {
      "text/html": [
       "<div>\n",
       "<style scoped>\n",
       "    .dataframe tbody tr th:only-of-type {\n",
       "        vertical-align: middle;\n",
       "    }\n",
       "\n",
       "    .dataframe tbody tr th {\n",
       "        vertical-align: top;\n",
       "    }\n",
       "\n",
       "    .dataframe thead th {\n",
       "        text-align: right;\n",
       "    }\n",
       "</style>\n",
       "<table border=\"1\" class=\"dataframe\">\n",
       "  <thead>\n",
       "    <tr style=\"text-align: right;\">\n",
       "      <th></th>\n",
       "      <th>Births</th>\n",
       "      <th>Deaths</th>\n",
       "    </tr>\n",
       "    <tr>\n",
       "      <th>Year</th>\n",
       "      <th></th>\n",
       "      <th></th>\n",
       "    </tr>\n",
       "  </thead>\n",
       "  <tbody>\n",
       "    <tr>\n",
       "      <th>1960</th>\n",
       "      <td>45.179</td>\n",
       "      <td>12.270</td>\n",
       "    </tr>\n",
       "    <tr>\n",
       "      <th>1961</th>\n",
       "      <td>44.919</td>\n",
       "      <td>11.915</td>\n",
       "    </tr>\n",
       "    <tr>\n",
       "      <th>1962</th>\n",
       "      <td>44.698</td>\n",
       "      <td>11.610</td>\n",
       "    </tr>\n",
       "    <tr>\n",
       "      <th>1963</th>\n",
       "      <td>44.517</td>\n",
       "      <td>11.346</td>\n",
       "    </tr>\n",
       "    <tr>\n",
       "      <th>1964</th>\n",
       "      <td>44.366</td>\n",
       "      <td>11.114</td>\n",
       "    </tr>\n",
       "    <tr>\n",
       "      <th>...</th>\n",
       "      <td>...</td>\n",
       "      <td>...</td>\n",
       "    </tr>\n",
       "    <tr>\n",
       "      <th>2014</th>\n",
       "      <td>18.892</td>\n",
       "      <td>5.670</td>\n",
       "    </tr>\n",
       "    <tr>\n",
       "      <th>2015</th>\n",
       "      <td>18.573</td>\n",
       "      <td>5.763</td>\n",
       "    </tr>\n",
       "    <tr>\n",
       "      <th>2016</th>\n",
       "      <td>18.245</td>\n",
       "      <td>5.851</td>\n",
       "    </tr>\n",
       "    <tr>\n",
       "      <th>2017</th>\n",
       "      <td>17.918</td>\n",
       "      <td>5.933</td>\n",
       "    </tr>\n",
       "    <tr>\n",
       "      <th>2018</th>\n",
       "      <td>17.602</td>\n",
       "      <td>6.010</td>\n",
       "    </tr>\n",
       "  </tbody>\n",
       "</table>\n",
       "<p>59 rows × 2 columns</p>\n",
       "</div>"
      ],
      "text/plain": [
       "      Births  Deaths\n",
       "Year                \n",
       "1960  45.179  12.270\n",
       "1961  44.919  11.915\n",
       "1962  44.698  11.610\n",
       "1963  44.517  11.346\n",
       "1964  44.366  11.114\n",
       "...      ...     ...\n",
       "2014  18.892   5.670\n",
       "2015  18.573   5.763\n",
       "2016  18.245   5.851\n",
       "2017  17.918   5.933\n",
       "2018  17.602   6.010\n",
       "\n",
       "[59 rows x 2 columns]"
      ]
     },
     "execution_count": 17,
     "metadata": {},
     "output_type": "execute_result"
    }
   ],
   "source": [
    "mexico = mexico_births.join(mexico_deaths)\n",
    "mexico"
   ]
  },
  {
   "cell_type": "markdown",
   "metadata": {
    "id": "Hw_IyEBWXCkI"
   },
   "source": [
    "4.\tGrafica el dataframe anterior utilizando la plataforma Seaborn. Ajusta las marcas de los ejes para que se muestren en períodos de 5. Personaliza las propiedades del gráfico para que se vea como sigue:"
   ]
  },
  {
   "cell_type": "code",
   "execution_count": 18,
   "metadata": {
    "colab": {
     "base_uri": "https://localhost:8080/",
     "height": 314
    },
    "executionInfo": {
     "elapsed": 558,
     "status": "ok",
     "timestamp": 1622174373867,
     "user": {
      "displayName": "Grettel Barceló Alonso",
      "photoUrl": "",
      "userId": "01577411478517144249"
     },
     "user_tz": 300
    },
    "id": "hZp-3x_NvPFa",
    "outputId": "d0813f5b-50cb-4164-a2e5-7fdee1954ceb"
   },
   "outputs": [
    {
     "data": {
      "text/plain": [
       "Text(0.5, 0, '')"
      ]
     },
     "execution_count": 18,
     "metadata": {},
     "output_type": "execute_result"
    },
    {
     "data": {
      "image/png": "[encoded data removed]",
      "text/plain": [
       "<Figure size 640x480 with 1 Axes>"
      ]
     },
     "metadata": {},
     "output_type": "display_data"
    }
   ],
   "source": [
    "sns.set_style('whitegrid')\n",
    "sns.set_palette('dark')\n",
    "sns.lineplot(data=mexico)\n",
    "plt.title('Rates per 1000 population')\n",
    "plt.xticks(np.arange(0, len(mexico)+1, 5))\n",
    "plt.xticks(rotation=90)\n",
    "plt.xlabel('')"
   ]
  },
  {
   "cell_type": "markdown",
   "metadata": {
    "id": "gvY4GumMysi1"
   },
   "source": [
    "5.\tOrdena el dataframe inicial `death` para determinar los tres países con la tasa de mortalidad más alta en el 2018. Obtén una muestra (`sample`), donde incluyas dichos países, México y otro país de tu selección. Visualiza las tasas en un gráfico de barras horizontales usando Pandas, como se muestra en la figura."
   ]
  },
  {
   "cell_type": "code",
   "execution_count": 19,
   "metadata": {
    "colab": {
     "base_uri": "https://localhost:8080/",
     "height": 298
    },
    "executionInfo": {
     "elapsed": 522,
     "status": "ok",
     "timestamp": 1622177513732,
     "user": {
      "displayName": "Grettel Barceló Alonso",
      "photoUrl": "",
      "userId": "01577411478517144249"
     },
     "user_tz": 300
    },
    "id": "N6gXUtFyygXh",
    "outputId": "d240062f-8c83-4344-e491-039cfb55fb81"
   },
   "outputs": [
    {
     "data": {
      "text/plain": [
       "<Axes: title={'center': 'Death rate 2018'}, ylabel='Country Name'>"
      ]
     },
     "execution_count": 19,
     "metadata": {},
     "output_type": "execute_result"
    },
    {
     "data": {
      "image/png": "[encoded data removed]",
      "text/plain": [
       "<Figure size 640x480 with 1 Axes>"
      ]
     },
     "metadata": {},
     "output_type": "display_data"
    }
   ],
   "source": [
    "sns.set_palette('Set2')\n",
    "sns.set_style('darkgrid')\n",
    "death.sort_values('2018',inplace=True)\n",
    "death.dropna(axis=0,subset=['2018'],inplace=True)\n",
    "sample = pd.concat([death[death['Country Name']=='Mexico'],death[death['Country Name']=='United States'],death[-3:]])\n",
    "sample.plot(kind='barh',x='Country Name',y='2018',title='Death rate 2018')"
   ]
  },
  {
   "cell_type": "markdown",
   "metadata": {
    "id": "f9PO4XdLXQmO"
   },
   "source": [
    "6.\tUtiliza la dataframe inicial `birth` para realizar un análisis de la tasa de natalidad en el 2018. Se busca determinar cuántos países están por debajo del promedio de nacimientos y cuántos por encima. No olvides borrar los registros que no tienen información registrada (`NaN`) antes de hacer los conteos. Visualiza los resultados en un gráfico circular usando Matplotlib, como se muestra en la figura."
   ]
  },
  {
   "cell_type": "code",
   "execution_count": 20,
   "metadata": {
    "colab": {
     "base_uri": "https://localhost:8080/",
     "height": 281
    },
    "executionInfo": {
     "elapsed": 183,
     "status": "ok",
     "timestamp": 1622177465957,
     "user": {
      "displayName": "Grettel Barceló Alonso",
      "photoUrl": "",
      "userId": "01577411478517144249"
     },
     "user_tz": 300
    },
    "id": "M68YKByGJsCq",
    "outputId": "05d4d23b-443d-45bf-fc49-5c96253534c1"
   },
   "outputs": [
    {
     "data": {
      "text/plain": [
       "Text(0.5, 1.0, 'Number of countries')"
      ]
     },
     "execution_count": 20,
     "metadata": {},
     "output_type": "execute_result"
    },
    {
     "data": {
      "image/png": "[encoded data removed]",
      "text/plain": [
       "<Figure size 640x480 with 1 Axes>"
      ]
     },
     "metadata": {},
     "output_type": "display_data"
    }
   ],
   "source": [
    "sns.set_palette(\"Set1\")\n",
    "birth.dropna(axis=0,subset=['2018'],inplace=True)\n",
    "below_avg = len(birth[birth['2018'] < birth['2018'].mean()])\n",
    "count = [below_avg, len(birth['2018']) - below_avg]\n",
    "plt.pie(count,labels=['births < avg','births > average'],autopct='%1.1f%%')\n",
    "plt.title('Number of countries')"
   ]
  }
 ],
 "metadata": {
  "colab": {
   "authorship_tag": "ABX9TyPfKHaKvIYp/t04rARNip/C",
   "mount_file_id": "1uAikOUVA8XUPWpT0ZUyyZ8d8b3r2dtOZ",
   "name": "DS_C3_SC2_T2.ipynb",
   "provenance": []
  },
  "kernelspec": {
   "display_name": "Python 3",
   "name": "python3"
  },
  "language_info": {
   "codemirror_mode": {
    "name": "ipython",
    "version": 3
   },
   "file_extension": ".py",
   "mimetype": "text/x-python",
   "name": "python",
   "nbconvert_exporter": "python",
   "pygments_lexer": "ipython3",
   "version": "3.12.2"
  }
 },
 "nbformat": 4,
 "nbformat_minor": 0
}
